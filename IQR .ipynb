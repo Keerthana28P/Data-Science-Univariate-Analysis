{
 "cells": [
  {
   "cell_type": "code",
   "execution_count": 1,
   "id": "e0fa5605-62d5-45ce-b9be-60dea807a880",
   "metadata": {},
   "outputs": [],
   "source": [
    "import pandas as pd\n",
    "dataset=pd.read_csv(\"Placement.csv\")"
   ]
  },
  {
   "cell_type": "code",
   "execution_count": 2,
   "id": "7a7999c0-56af-49f8-9a2b-f72103f2727d",
   "metadata": {},
   "outputs": [],
   "source": [
    "#Function Quan and Qual separation \n",
    "def quanQual(dataset):\n",
    "        quan=[]\n",
    "        qual=[]\n",
    "        for columnName in dataset.columns:\n",
    "            if(dataset[columnName].dtypes=='O'):\n",
    "                qual.append(columnName)\n",
    "            else:\n",
    "                quan.append(columnName)\n",
    "        return quan,qual"
   ]
  },
  {
   "cell_type": "code",
   "execution_count": 5,
   "id": "238b42d1-fec5-41ad-975a-474d0dfe0916",
   "metadata": {},
   "outputs": [],
   "source": [
    "quan,qual=quanQual(dataset)"
   ]
  },
  {
   "cell_type": "code",
   "execution_count": 7,
   "id": "0ce87bcd-653e-4f0b-803e-067e1a8312c4",
   "metadata": {},
   "outputs": [
    {
     "data": {
      "text/plain": [
       "['sl_no', 'ssc_p', 'hsc_p', 'degree_p', 'etest_p', 'mba_p', 'salary']"
      ]
     },
     "execution_count": 7,
     "metadata": {},
     "output_type": "execute_result"
    }
   ],
   "source": [
    "quan"
   ]
  },
  {
   "cell_type": "code",
   "execution_count": 9,
   "id": "d14f6ff2-21b0-4199-b673-e87783729e17",
   "metadata": {},
   "outputs": [],
   "source": [
    "import numpy as np"
   ]
  },
  {
   "cell_type": "code",
   "execution_count": 11,
   "id": "aa1287d3-59de-4dba-9d77-1d4650cf5de6",
   "metadata": {},
   "outputs": [],
   "source": [
    "#Function creation for table along with calculated IQR values\n",
    "def IQR(dataset,quan):\n",
    "    descriptive=pd.DataFrame(index=[\"Mean\",\"Median\",\"Mode\",\"Q1:25%\",\"Q2:50%\",\"Q3:75%\",\"99%\",\"Q4:100%\",\"IQR\",\"1.5rule\",\"min\",\"max\",\"Lesser\",\"Greater\"],columns=quan)\n",
    "    for columnName in quan:\n",
    "        descriptive.loc[\"Mean\",columnName]=dataset[columnName].mean()\n",
    "        descriptive.loc[\"Median\",columnName]=dataset[columnName].median()\n",
    "        descriptive.loc[\"Mode\",columnName]=dataset[columnName].mode()[0]\n",
    "        descriptive.loc[\"Q1:25%\",columnName]=dataset.describe()[columnName][\"25%\"]\n",
    "        descriptive.loc[\"Q2:50%\",columnName]=dataset.describe()[columnName][\"50%\"]\n",
    "        descriptive.loc[\"Q3:75%\",columnName]=dataset.describe()[columnName][\"75%\"]\n",
    "        descriptive.loc[\"99%\",columnName]=np.percentile(dataset[columnName],99)\n",
    "        descriptive.loc[\"Q4:100%\",columnName]=dataset.describe()[columnName][\"max\"]\n",
    "        descriptive.loc[\"IQR\",columnName]=descriptive[columnName][\"Q3:75%\"]-descriptive[columnName][\"Q1:25%\"]\n",
    "        descriptive.loc[\"1.5rule\",columnName]=1.5*descriptive[columnName][\"IQR\"]\n",
    "        descriptive.loc[\"Lesser\",columnName]=descriptive[columnName][\"Q1:25%\"]-descriptive[columnName][\"1.5rule\"]\n",
    "        descriptive.loc[\"Greater\",columnName]=descriptive[columnName][\"Q3:75%\"]+descriptive[columnName][\"1.5rule\"]\n",
    "        descriptive.loc[\"min\",columnName]=dataset[columnName].min()\n",
    "        descriptive.loc[\"max\",columnName]=dataset[columnName].max()\n",
    "    return descriptive    "
   ]
  },
  {
   "cell_type": "code",
   "execution_count": 13,
   "id": "9a01c458-0d87-4b37-a5e8-fedf1d884160",
   "metadata": {},
   "outputs": [],
   "source": [
    "descriptive=IQR (dataset,quan)"
   ]
  },
  {
   "cell_type": "code",
   "execution_count": 15,
   "id": "942f96e4-402a-480d-94d1-b9547895e5cd",
   "metadata": {},
   "outputs": [
    {
     "data": {
      "text/html": [
       "<div>\n",
       "<style scoped>\n",
       "    .dataframe tbody tr th:only-of-type {\n",
       "        vertical-align: middle;\n",
       "    }\n",
       "\n",
       "    .dataframe tbody tr th {\n",
       "        vertical-align: top;\n",
       "    }\n",
       "\n",
       "    .dataframe thead th {\n",
       "        text-align: right;\n",
       "    }\n",
       "</style>\n",
       "<table border=\"1\" class=\"dataframe\">\n",
       "  <thead>\n",
       "    <tr style=\"text-align: right;\">\n",
       "      <th></th>\n",
       "      <th>sl_no</th>\n",
       "      <th>ssc_p</th>\n",
       "      <th>hsc_p</th>\n",
       "      <th>degree_p</th>\n",
       "      <th>etest_p</th>\n",
       "      <th>mba_p</th>\n",
       "      <th>salary</th>\n",
       "    </tr>\n",
       "  </thead>\n",
       "  <tbody>\n",
       "    <tr>\n",
       "      <th>Mean</th>\n",
       "      <td>108.0</td>\n",
       "      <td>67.303395</td>\n",
       "      <td>66.333163</td>\n",
       "      <td>66.370186</td>\n",
       "      <td>72.100558</td>\n",
       "      <td>62.278186</td>\n",
       "      <td>288655.405405</td>\n",
       "    </tr>\n",
       "    <tr>\n",
       "      <th>Median</th>\n",
       "      <td>108.0</td>\n",
       "      <td>67.0</td>\n",
       "      <td>65.0</td>\n",
       "      <td>66.0</td>\n",
       "      <td>71.0</td>\n",
       "      <td>62.0</td>\n",
       "      <td>265000.0</td>\n",
       "    </tr>\n",
       "    <tr>\n",
       "      <th>Mode</th>\n",
       "      <td>1</td>\n",
       "      <td>62.0</td>\n",
       "      <td>63.0</td>\n",
       "      <td>65.0</td>\n",
       "      <td>60.0</td>\n",
       "      <td>56.7</td>\n",
       "      <td>300000.0</td>\n",
       "    </tr>\n",
       "    <tr>\n",
       "      <th>Q1:25%</th>\n",
       "      <td>54.5</td>\n",
       "      <td>60.6</td>\n",
       "      <td>60.9</td>\n",
       "      <td>61.0</td>\n",
       "      <td>60.0</td>\n",
       "      <td>57.945</td>\n",
       "      <td>240000.0</td>\n",
       "    </tr>\n",
       "    <tr>\n",
       "      <th>Q2:50%</th>\n",
       "      <td>108.0</td>\n",
       "      <td>67.0</td>\n",
       "      <td>65.0</td>\n",
       "      <td>66.0</td>\n",
       "      <td>71.0</td>\n",
       "      <td>62.0</td>\n",
       "      <td>265000.0</td>\n",
       "    </tr>\n",
       "    <tr>\n",
       "      <th>Q3:75%</th>\n",
       "      <td>161.5</td>\n",
       "      <td>75.7</td>\n",
       "      <td>73.0</td>\n",
       "      <td>72.0</td>\n",
       "      <td>83.5</td>\n",
       "      <td>66.255</td>\n",
       "      <td>300000.0</td>\n",
       "    </tr>\n",
       "    <tr>\n",
       "      <th>99%</th>\n",
       "      <td>212.86</td>\n",
       "      <td>87.0</td>\n",
       "      <td>91.86</td>\n",
       "      <td>83.86</td>\n",
       "      <td>97.0</td>\n",
       "      <td>76.1142</td>\n",
       "      <td>NaN</td>\n",
       "    </tr>\n",
       "    <tr>\n",
       "      <th>Q4:100%</th>\n",
       "      <td>215.0</td>\n",
       "      <td>89.4</td>\n",
       "      <td>97.7</td>\n",
       "      <td>91.0</td>\n",
       "      <td>98.0</td>\n",
       "      <td>77.89</td>\n",
       "      <td>940000.0</td>\n",
       "    </tr>\n",
       "    <tr>\n",
       "      <th>IQR</th>\n",
       "      <td>107.0</td>\n",
       "      <td>15.1</td>\n",
       "      <td>12.1</td>\n",
       "      <td>11.0</td>\n",
       "      <td>23.5</td>\n",
       "      <td>8.31</td>\n",
       "      <td>60000.0</td>\n",
       "    </tr>\n",
       "    <tr>\n",
       "      <th>1.5rule</th>\n",
       "      <td>160.5</td>\n",
       "      <td>22.65</td>\n",
       "      <td>18.15</td>\n",
       "      <td>16.5</td>\n",
       "      <td>35.25</td>\n",
       "      <td>12.465</td>\n",
       "      <td>90000.0</td>\n",
       "    </tr>\n",
       "    <tr>\n",
       "      <th>min</th>\n",
       "      <td>1</td>\n",
       "      <td>40.89</td>\n",
       "      <td>37.0</td>\n",
       "      <td>50.0</td>\n",
       "      <td>50.0</td>\n",
       "      <td>51.21</td>\n",
       "      <td>200000.0</td>\n",
       "    </tr>\n",
       "    <tr>\n",
       "      <th>max</th>\n",
       "      <td>215</td>\n",
       "      <td>89.4</td>\n",
       "      <td>97.7</td>\n",
       "      <td>91.0</td>\n",
       "      <td>98.0</td>\n",
       "      <td>77.89</td>\n",
       "      <td>940000.0</td>\n",
       "    </tr>\n",
       "    <tr>\n",
       "      <th>Lesser</th>\n",
       "      <td>-106.0</td>\n",
       "      <td>37.95</td>\n",
       "      <td>42.75</td>\n",
       "      <td>44.5</td>\n",
       "      <td>24.75</td>\n",
       "      <td>45.48</td>\n",
       "      <td>150000.0</td>\n",
       "    </tr>\n",
       "    <tr>\n",
       "      <th>Greater</th>\n",
       "      <td>322.0</td>\n",
       "      <td>98.35</td>\n",
       "      <td>91.15</td>\n",
       "      <td>88.5</td>\n",
       "      <td>118.75</td>\n",
       "      <td>78.72</td>\n",
       "      <td>390000.0</td>\n",
       "    </tr>\n",
       "  </tbody>\n",
       "</table>\n",
       "</div>"
      ],
      "text/plain": [
       "          sl_no      ssc_p      hsc_p   degree_p    etest_p      mba_p  \\\n",
       "Mean      108.0  67.303395  66.333163  66.370186  72.100558  62.278186   \n",
       "Median    108.0       67.0       65.0       66.0       71.0       62.0   \n",
       "Mode          1       62.0       63.0       65.0       60.0       56.7   \n",
       "Q1:25%     54.5       60.6       60.9       61.0       60.0     57.945   \n",
       "Q2:50%    108.0       67.0       65.0       66.0       71.0       62.0   \n",
       "Q3:75%    161.5       75.7       73.0       72.0       83.5     66.255   \n",
       "99%      212.86       87.0      91.86      83.86       97.0    76.1142   \n",
       "Q4:100%   215.0       89.4       97.7       91.0       98.0      77.89   \n",
       "IQR       107.0       15.1       12.1       11.0       23.5       8.31   \n",
       "1.5rule   160.5      22.65      18.15       16.5      35.25     12.465   \n",
       "min           1      40.89       37.0       50.0       50.0      51.21   \n",
       "max         215       89.4       97.7       91.0       98.0      77.89   \n",
       "Lesser   -106.0      37.95      42.75       44.5      24.75      45.48   \n",
       "Greater   322.0      98.35      91.15       88.5     118.75      78.72   \n",
       "\n",
       "                salary  \n",
       "Mean     288655.405405  \n",
       "Median        265000.0  \n",
       "Mode          300000.0  \n",
       "Q1:25%        240000.0  \n",
       "Q2:50%        265000.0  \n",
       "Q3:75%        300000.0  \n",
       "99%                NaN  \n",
       "Q4:100%       940000.0  \n",
       "IQR            60000.0  \n",
       "1.5rule        90000.0  \n",
       "min           200000.0  \n",
       "max           940000.0  \n",
       "Lesser        150000.0  \n",
       "Greater       390000.0  "
      ]
     },
     "execution_count": 15,
     "metadata": {},
     "output_type": "execute_result"
    }
   ],
   "source": [
    "descriptive"
   ]
  },
  {
   "cell_type": "code",
   "execution_count": 17,
   "id": "2baf1bb2-304e-4c27-88a8-1ebb227afad3",
   "metadata": {},
   "outputs": [],
   "source": [
    "#To find the columns having greater and lesser outliers separately:\n",
    "def FindingOutliers(descriptive,quan):\n",
    "    lesser=[]\n",
    "    greater=[]\n",
    "    for columnName in quan:\n",
    "        if (descriptive.loc[\"min\"][columnName]<descriptive.loc[\"Lesser\"][columnName]):\n",
    "            lesser.append(columnName)\n",
    "        if (descriptive.loc[\"max\"][columnName]>descriptive.loc[\"Greater\"][columnName]):\n",
    "            greater.append(columnName)\n",
    "    return greater,lesser        \n",
    " \n",
    "            "
   ]
  },
  {
   "cell_type": "code",
   "execution_count": 19,
   "id": "dc855b86-a163-4fe6-9408-7db47739ed69",
   "metadata": {},
   "outputs": [],
   "source": [
    "greater,lesser=FindingOutliers(descriptive,quan)"
   ]
  },
  {
   "cell_type": "code",
   "execution_count": 21,
   "id": "b43729b9-dd4f-495c-96e3-a9626f1e28e9",
   "metadata": {},
   "outputs": [
    {
     "data": {
      "text/plain": [
       "['hsc_p', 'degree_p', 'salary']"
      ]
     },
     "execution_count": 21,
     "metadata": {},
     "output_type": "execute_result"
    }
   ],
   "source": [
    "greater"
   ]
  },
  {
   "cell_type": "code",
   "execution_count": 23,
   "id": "b0810f75-c813-46a9-89ff-e9359cc1daaa",
   "metadata": {},
   "outputs": [
    {
     "data": {
      "text/plain": [
       "['hsc_p']"
      ]
     },
     "execution_count": 23,
     "metadata": {},
     "output_type": "execute_result"
    }
   ],
   "source": [
    "lesser"
   ]
  },
  {
   "cell_type": "code",
   "execution_count": 41,
   "id": "fa5ac1b2-1b20-4984-853f-25da4adaad62",
   "metadata": {},
   "outputs": [],
   "source": [
    "# To replace the outliers\n",
    "def ReplaceOutliers (lesser,greater,descriptive,dataset):\n",
    "    for columnName in lesser:\n",
    "        dataset[columnName][dataset[columnName]<descriptive[columnName][\"Lesser\"]]=descriptive[columnName][\"Lesser\"]\n",
    "    for columnName in greater:\n",
    "        dataset[columnName][dataset[columnName]>descriptive[columnName][\"Greater\"]]=descriptive[columnName][\"Greater\"]\n",
    "    return dataset    \n"
   ]
  },
  {
   "cell_type": "code",
   "execution_count": 43,
   "id": "50999470-9661-40ad-a20e-63844123ca88",
   "metadata": {},
   "outputs": [],
   "source": [
    "dataset=ReplaceOutliers (lesser,greater,descriptive,dataset)"
   ]
  },
  {
   "cell_type": "code",
   "execution_count": 45,
   "id": "70bd18fb-50e5-4adf-bed8-67a8e69280bd",
   "metadata": {},
   "outputs": [],
   "source": [
    "def IQR(dataset,quan):\n",
    "    descriptive=pd.DataFrame(index=[\"Mean\",\"Median\",\"Mode\",\"Q1:25%\",\"Q2:50%\",\"Q3:75%\",\"99%\",\"Q4:100%\",\"IQR\",\"1.5rule\",\"min\",\"max\",\"Lesser\",\"Greater\"],columns=quan)\n",
    "    for columnName in quan:\n",
    "        descriptive.loc[\"Mean\",columnName]=dataset[columnName].mean()\n",
    "        descriptive.loc[\"Median\",columnName]=dataset[columnName].median()\n",
    "        descriptive.loc[\"Mode\",columnName]=dataset[columnName].mode()[0]\n",
    "        descriptive.loc[\"Q1:25%\",columnName]=dataset.describe()[columnName][\"25%\"]\n",
    "        descriptive.loc[\"Q2:50%\",columnName]=dataset.describe()[columnName][\"50%\"]\n",
    "        descriptive.loc[\"Q3:75%\",columnName]=dataset.describe()[columnName][\"75%\"]\n",
    "        descriptive.loc[\"99%\",columnName]=np.percentile(dataset[columnName],99)\n",
    "        descriptive.loc[\"Q4:100%\",columnName]=dataset.describe()[columnName][\"max\"]\n",
    "        descriptive.loc[\"IQR\",columnName]=descriptive[columnName][\"Q3:75%\"]-descriptive[columnName][\"Q1:25%\"]\n",
    "        descriptive.loc[\"1.5rule\",columnName]=1.5*descriptive[columnName][\"IQR\"]\n",
    "        descriptive.loc[\"Lesser\",columnName]=descriptive[columnName][\"Q1:25%\"]-descriptive[columnName][\"1.5rule\"]\n",
    "        descriptive.loc[\"Greater\",columnName]=descriptive[columnName][\"Q3:75%\"]+descriptive[columnName][\"1.5rule\"]\n",
    "        descriptive.loc[\"min\",columnName]=dataset[columnName].min()\n",
    "        descriptive.loc[\"max\",columnName]=dataset[columnName].max()\n",
    "    return descriptive    "
   ]
  },
  {
   "cell_type": "code",
   "execution_count": 47,
   "id": "2801ccd0-5b97-4eaa-9dd2-8999e37a4753",
   "metadata": {},
   "outputs": [],
   "source": [
    "descriptive =IQR(dataset,quan)"
   ]
  },
  {
   "cell_type": "code",
   "execution_count": 49,
   "id": "7745966e-4bd0-47b6-a3c1-c142ee16818b",
   "metadata": {},
   "outputs": [
    {
     "data": {
      "text/html": [
       "<div>\n",
       "<style scoped>\n",
       "    .dataframe tbody tr th:only-of-type {\n",
       "        vertical-align: middle;\n",
       "    }\n",
       "\n",
       "    .dataframe tbody tr th {\n",
       "        vertical-align: top;\n",
       "    }\n",
       "\n",
       "    .dataframe thead th {\n",
       "        text-align: right;\n",
       "    }\n",
       "</style>\n",
       "<table border=\"1\" class=\"dataframe\">\n",
       "  <thead>\n",
       "    <tr style=\"text-align: right;\">\n",
       "      <th></th>\n",
       "      <th>sl_no</th>\n",
       "      <th>ssc_p</th>\n",
       "      <th>hsc_p</th>\n",
       "      <th>degree_p</th>\n",
       "      <th>etest_p</th>\n",
       "      <th>mba_p</th>\n",
       "      <th>salary</th>\n",
       "    </tr>\n",
       "  </thead>\n",
       "  <tbody>\n",
       "    <tr>\n",
       "      <th>Mean</th>\n",
       "      <td>108.0</td>\n",
       "      <td>67.303395</td>\n",
       "      <td>66.334744</td>\n",
       "      <td>66.358558</td>\n",
       "      <td>72.100558</td>\n",
       "      <td>62.278186</td>\n",
       "      <td>277648.648649</td>\n",
       "    </tr>\n",
       "    <tr>\n",
       "      <th>Median</th>\n",
       "      <td>108.0</td>\n",
       "      <td>67.0</td>\n",
       "      <td>65.0</td>\n",
       "      <td>66.0</td>\n",
       "      <td>71.0</td>\n",
       "      <td>62.0</td>\n",
       "      <td>265000.0</td>\n",
       "    </tr>\n",
       "    <tr>\n",
       "      <th>Mode</th>\n",
       "      <td>1</td>\n",
       "      <td>62.0</td>\n",
       "      <td>63.0</td>\n",
       "      <td>65.0</td>\n",
       "      <td>60.0</td>\n",
       "      <td>56.7</td>\n",
       "      <td>300000.0</td>\n",
       "    </tr>\n",
       "    <tr>\n",
       "      <th>Q1:25%</th>\n",
       "      <td>54.5</td>\n",
       "      <td>60.6</td>\n",
       "      <td>60.9</td>\n",
       "      <td>61.0</td>\n",
       "      <td>60.0</td>\n",
       "      <td>57.945</td>\n",
       "      <td>240000.0</td>\n",
       "    </tr>\n",
       "    <tr>\n",
       "      <th>Q2:50%</th>\n",
       "      <td>108.0</td>\n",
       "      <td>67.0</td>\n",
       "      <td>65.0</td>\n",
       "      <td>66.0</td>\n",
       "      <td>71.0</td>\n",
       "      <td>62.0</td>\n",
       "      <td>265000.0</td>\n",
       "    </tr>\n",
       "    <tr>\n",
       "      <th>Q3:75%</th>\n",
       "      <td>161.5</td>\n",
       "      <td>75.7</td>\n",
       "      <td>73.0</td>\n",
       "      <td>72.0</td>\n",
       "      <td>83.5</td>\n",
       "      <td>66.255</td>\n",
       "      <td>300000.0</td>\n",
       "    </tr>\n",
       "    <tr>\n",
       "      <th>99%</th>\n",
       "      <td>212.86</td>\n",
       "      <td>87.0</td>\n",
       "      <td>91.129</td>\n",
       "      <td>83.86</td>\n",
       "      <td>97.0</td>\n",
       "      <td>76.1142</td>\n",
       "      <td>NaN</td>\n",
       "    </tr>\n",
       "    <tr>\n",
       "      <th>Q4:100%</th>\n",
       "      <td>215.0</td>\n",
       "      <td>89.4</td>\n",
       "      <td>91.15</td>\n",
       "      <td>88.5</td>\n",
       "      <td>98.0</td>\n",
       "      <td>77.89</td>\n",
       "      <td>390000.0</td>\n",
       "    </tr>\n",
       "    <tr>\n",
       "      <th>IQR</th>\n",
       "      <td>107.0</td>\n",
       "      <td>15.1</td>\n",
       "      <td>12.1</td>\n",
       "      <td>11.0</td>\n",
       "      <td>23.5</td>\n",
       "      <td>8.31</td>\n",
       "      <td>60000.0</td>\n",
       "    </tr>\n",
       "    <tr>\n",
       "      <th>1.5rule</th>\n",
       "      <td>160.5</td>\n",
       "      <td>22.65</td>\n",
       "      <td>18.15</td>\n",
       "      <td>16.5</td>\n",
       "      <td>35.25</td>\n",
       "      <td>12.465</td>\n",
       "      <td>90000.0</td>\n",
       "    </tr>\n",
       "    <tr>\n",
       "      <th>min</th>\n",
       "      <td>1</td>\n",
       "      <td>40.89</td>\n",
       "      <td>42.75</td>\n",
       "      <td>50.0</td>\n",
       "      <td>50.0</td>\n",
       "      <td>51.21</td>\n",
       "      <td>200000.0</td>\n",
       "    </tr>\n",
       "    <tr>\n",
       "      <th>max</th>\n",
       "      <td>215</td>\n",
       "      <td>89.4</td>\n",
       "      <td>91.15</td>\n",
       "      <td>88.5</td>\n",
       "      <td>98.0</td>\n",
       "      <td>77.89</td>\n",
       "      <td>390000.0</td>\n",
       "    </tr>\n",
       "    <tr>\n",
       "      <th>Lesser</th>\n",
       "      <td>-106.0</td>\n",
       "      <td>37.95</td>\n",
       "      <td>42.75</td>\n",
       "      <td>44.5</td>\n",
       "      <td>24.75</td>\n",
       "      <td>45.48</td>\n",
       "      <td>150000.0</td>\n",
       "    </tr>\n",
       "    <tr>\n",
       "      <th>Greater</th>\n",
       "      <td>322.0</td>\n",
       "      <td>98.35</td>\n",
       "      <td>91.15</td>\n",
       "      <td>88.5</td>\n",
       "      <td>118.75</td>\n",
       "      <td>78.72</td>\n",
       "      <td>390000.0</td>\n",
       "    </tr>\n",
       "  </tbody>\n",
       "</table>\n",
       "</div>"
      ],
      "text/plain": [
       "          sl_no      ssc_p      hsc_p   degree_p    etest_p      mba_p  \\\n",
       "Mean      108.0  67.303395  66.334744  66.358558  72.100558  62.278186   \n",
       "Median    108.0       67.0       65.0       66.0       71.0       62.0   \n",
       "Mode          1       62.0       63.0       65.0       60.0       56.7   \n",
       "Q1:25%     54.5       60.6       60.9       61.0       60.0     57.945   \n",
       "Q2:50%    108.0       67.0       65.0       66.0       71.0       62.0   \n",
       "Q3:75%    161.5       75.7       73.0       72.0       83.5     66.255   \n",
       "99%      212.86       87.0     91.129      83.86       97.0    76.1142   \n",
       "Q4:100%   215.0       89.4      91.15       88.5       98.0      77.89   \n",
       "IQR       107.0       15.1       12.1       11.0       23.5       8.31   \n",
       "1.5rule   160.5      22.65      18.15       16.5      35.25     12.465   \n",
       "min           1      40.89      42.75       50.0       50.0      51.21   \n",
       "max         215       89.4      91.15       88.5       98.0      77.89   \n",
       "Lesser   -106.0      37.95      42.75       44.5      24.75      45.48   \n",
       "Greater   322.0      98.35      91.15       88.5     118.75      78.72   \n",
       "\n",
       "                salary  \n",
       "Mean     277648.648649  \n",
       "Median        265000.0  \n",
       "Mode          300000.0  \n",
       "Q1:25%        240000.0  \n",
       "Q2:50%        265000.0  \n",
       "Q3:75%        300000.0  \n",
       "99%                NaN  \n",
       "Q4:100%       390000.0  \n",
       "IQR            60000.0  \n",
       "1.5rule        90000.0  \n",
       "min           200000.0  \n",
       "max           390000.0  \n",
       "Lesser        150000.0  \n",
       "Greater       390000.0  "
      ]
     },
     "execution_count": 49,
     "metadata": {},
     "output_type": "execute_result"
    }
   ],
   "source": [
    "descriptive"
   ]
  },
  {
   "cell_type": "code",
   "execution_count": 33,
   "id": "c34f497f-1146-445e-9fc7-3a93a800a268",
   "metadata": {},
   "outputs": [],
   "source": [
    "#To find the columns having greater and lesser outliers separately:\n",
    "def FindingOutliers(descriptive,quan):\n",
    "    lesser=[]\n",
    "    greater=[]\n",
    "    for columnName in quan:\n",
    "        if (descriptive.loc[\"min\"][columnName]<descriptive.loc[\"Lesser\"][columnName]):\n",
    "            lesser.append(columnName)\n",
    "        if (descriptive.loc[\"max\"][columnName]>descriptive.loc[\"Greater\"][columnName]):\n",
    "            greater.append(columnName)\n",
    "    return greater,lesser"
   ]
  },
  {
   "cell_type": "code",
   "execution_count": 51,
   "id": "38df7fc6-3942-434b-bba2-5c9c645d908d",
   "metadata": {},
   "outputs": [],
   "source": [
    "greater,lesser= FindingOutliers(descriptive,quan)"
   ]
  },
  {
   "cell_type": "code",
   "execution_count": 53,
   "id": "c2570af3-0065-4edd-a400-6cd77bc2a7e7",
   "metadata": {},
   "outputs": [
    {
     "data": {
      "text/plain": [
       "[]"
      ]
     },
     "execution_count": 53,
     "metadata": {},
     "output_type": "execute_result"
    }
   ],
   "source": [
    "greater"
   ]
  },
  {
   "cell_type": "code",
   "execution_count": 55,
   "id": "37fd21d8-ec30-42dd-877c-1f66d692f48f",
   "metadata": {},
   "outputs": [
    {
     "data": {
      "text/plain": [
       "[]"
      ]
     },
     "execution_count": 55,
     "metadata": {},
     "output_type": "execute_result"
    }
   ],
   "source": [
    "lesser"
   ]
  },
  {
   "cell_type": "code",
   "execution_count": null,
   "id": "d1500fe6-2023-4b57-8c77-ccc644ecf170",
   "metadata": {},
   "outputs": [],
   "source": []
  }
 ],
 "metadata": {
  "kernelspec": {
   "display_name": "Python [conda env:base] *",
   "language": "python",
   "name": "conda-base-py"
  },
  "language_info": {
   "codemirror_mode": {
    "name": "ipython",
    "version": 3
   },
   "file_extension": ".py",
   "mimetype": "text/x-python",
   "name": "python",
   "nbconvert_exporter": "python",
   "pygments_lexer": "ipython3",
   "version": "3.12.7"
  }
 },
 "nbformat": 4,
 "nbformat_minor": 5
}
