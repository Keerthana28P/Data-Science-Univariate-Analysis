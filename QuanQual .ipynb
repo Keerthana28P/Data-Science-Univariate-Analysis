{
 "cells": [
  {
   "cell_type": "code",
   "execution_count": 1,
   "id": "b1af74f3-66f4-42b6-9bd4-d7cb24709feb",
   "metadata": {},
   "outputs": [],
   "source": [
    "import pandas as pd"
   ]
  },
  {
   "cell_type": "code",
   "execution_count": 2,
   "id": "f3782a5b-b9b3-4054-991a-104c5a89a62d",
   "metadata": {},
   "outputs": [],
   "source": [
    "dataset=pd.read_csv(\"Placement.csv\")"
   ]
  },
  {
   "cell_type": "code",
   "execution_count": 3,
   "id": "ff4655c1-e34b-4e02-8277-f603b3b8c470",
   "metadata": {},
   "outputs": [
    {
     "name": "stdout",
     "output_type": "stream",
     "text": [
      "<class 'pandas.core.frame.DataFrame'>\n",
      "RangeIndex: 215 entries, 0 to 214\n",
      "Data columns (total 15 columns):\n",
      " #   Column          Non-Null Count  Dtype  \n",
      "---  ------          --------------  -----  \n",
      " 0   sl_no           215 non-null    int64  \n",
      " 1   gender          215 non-null    object \n",
      " 2   ssc_p           215 non-null    float64\n",
      " 3   ssc_b           215 non-null    object \n",
      " 4   hsc_p           215 non-null    float64\n",
      " 5   hsc_b           215 non-null    object \n",
      " 6   hsc_s           215 non-null    object \n",
      " 7   degree_p        215 non-null    float64\n",
      " 8   degree_t        215 non-null    object \n",
      " 9   workex          215 non-null    object \n",
      " 10  etest_p         215 non-null    float64\n",
      " 11  specialisation  215 non-null    object \n",
      " 12  mba_p           215 non-null    float64\n",
      " 13  status          215 non-null    object \n",
      " 14  salary          148 non-null    float64\n",
      "dtypes: float64(6), int64(1), object(8)\n",
      "memory usage: 25.3+ KB\n"
     ]
    }
   ],
   "source": [
    "#to view the information of the dataset\n",
    "dataset.info()"
   ]
  },
  {
   "cell_type": "code",
   "execution_count": 7,
   "id": "24d77aa4-b21e-432b-8032-cdb10c33f727",
   "metadata": {},
   "outputs": [
    {
     "data": {
      "text/plain": [
       "Index(['sl_no', 'gender', 'ssc_p', 'ssc_b', 'hsc_p', 'hsc_b', 'hsc_s',\n",
       "       'degree_p', 'degree_t', 'workex', 'etest_p', 'specialisation', 'mba_p',\n",
       "       'status', 'salary'],\n",
       "      dtype='object')"
      ]
     },
     "execution_count": 7,
     "metadata": {},
     "output_type": "execute_result"
    }
   ],
   "source": [
    "#to view the names of the columns\n",
    "dataset.columns"
   ]
  },
  {
   "cell_type": "code",
   "execution_count": 9,
   "id": "135c4064-7867-4314-a0e0-3ef64c7935e9",
   "metadata": {},
   "outputs": [
    {
     "data": {
      "text/plain": [
       "sl_no               int64\n",
       "gender             object\n",
       "ssc_p             float64\n",
       "ssc_b              object\n",
       "hsc_p             float64\n",
       "hsc_b              object\n",
       "hsc_s              object\n",
       "degree_p          float64\n",
       "degree_t           object\n",
       "workex             object\n",
       "etest_p           float64\n",
       "specialisation     object\n",
       "mba_p             float64\n",
       "status             object\n",
       "salary            float64\n",
       "dtype: object"
      ]
     },
     "execution_count": 9,
     "metadata": {},
     "output_type": "execute_result"
    }
   ],
   "source": [
    "#to view the datatypes of the columns\n",
    "dataset.dtypes"
   ]
  },
  {
   "cell_type": "code",
   "execution_count": 11,
   "id": "06cdc70d-01ee-443a-a4d5-81ccf635b138",
   "metadata": {},
   "outputs": [
    {
     "data": {
      "text/plain": [
       "dtype('O')"
      ]
     },
     "execution_count": 11,
     "metadata": {},
     "output_type": "execute_result"
    }
   ],
   "source": [
    "#to view the datatype of a column\n",
    "dataset[\"gender\"].dtypes"
   ]
  },
  {
   "cell_type": "code",
   "execution_count": 13,
   "id": "99033f8b-bed1-4f16-ab23-788df29b3fea",
   "metadata": {},
   "outputs": [
    {
     "name": "stdout",
     "output_type": "stream",
     "text": [
      "sl_no\n",
      "quan\n",
      "gender\n",
      "qual\n",
      "ssc_p\n",
      "quan\n",
      "ssc_b\n",
      "qual\n",
      "hsc_p\n",
      "quan\n",
      "hsc_b\n",
      "qual\n",
      "hsc_s\n",
      "qual\n",
      "degree_p\n",
      "quan\n",
      "degree_t\n",
      "qual\n",
      "workex\n",
      "qual\n",
      "etest_p\n",
      "quan\n",
      "specialisation\n",
      "qual\n",
      "mba_p\n",
      "quan\n",
      "status\n",
      "qual\n",
      "salary\n",
      "quan\n"
     ]
    }
   ],
   "source": [
    "#to separate quantitative and qualitative columns in separate lists\n",
    "quan=[]\n",
    "qual=[]\n",
    "for columnName in dataset.columns:\n",
    "    print(columnName)\n",
    "    if(dataset[columnName].dtypes=='O'):\n",
    "        print(\"qual\")\n",
    "        qual.append(columnName)\n",
    "    else:\n",
    "        print(\"quan\")\n",
    "        quan.append(columnName)\n",
    "    "
   ]
  },
  {
   "cell_type": "code",
   "execution_count": 15,
   "id": "f75eb9b8-eee1-42ee-815e-748f62d76cc4",
   "metadata": {},
   "outputs": [],
   "source": [
    "#Function creation for quan and qual \n",
    "def quanQual(dataset):\n",
    "        quan=[]\n",
    "        qual=[]\n",
    "        for columnName in dataset.columns:\n",
    "            if(dataset[columnName].dtypes=='O'):\n",
    "                qual.append(columnName)\n",
    "            else:\n",
    "                quan.append(columnName)\n",
    "        return quan,qual"
   ]
  },
  {
   "cell_type": "code",
   "execution_count": 17,
   "id": "a74a8c2f-95a8-4a04-bfc2-e6903b993efd",
   "metadata": {},
   "outputs": [
    {
     "data": {
      "text/plain": [
       "(['sl_no', 'ssc_p', 'hsc_p', 'degree_p', 'etest_p', 'mba_p', 'salary'],\n",
       " ['gender',\n",
       "  'ssc_b',\n",
       "  'hsc_b',\n",
       "  'hsc_s',\n",
       "  'degree_t',\n",
       "  'workex',\n",
       "  'specialisation',\n",
       "  'status'])"
      ]
     },
     "execution_count": 17,
     "metadata": {},
     "output_type": "execute_result"
    }
   ],
   "source": [
    "#Calling Function\n",
    "quanQual(dataset)"
   ]
  },
  {
   "cell_type": "code",
   "execution_count": 19,
   "id": "f7add2d7-d296-4c79-b585-94d33f3a2eb1",
   "metadata": {},
   "outputs": [
    {
     "data": {
      "text/plain": [
       "['gender',\n",
       " 'ssc_b',\n",
       " 'hsc_b',\n",
       " 'hsc_s',\n",
       " 'degree_t',\n",
       " 'workex',\n",
       " 'specialisation',\n",
       " 'status']"
      ]
     },
     "execution_count": 19,
     "metadata": {},
     "output_type": "execute_result"
    }
   ],
   "source": [
    "quan,qual=quanQual(dataset)\n",
    "qual"
   ]
  },
  {
   "cell_type": "code",
   "execution_count": 21,
   "id": "f1a6c855-b4bb-434b-b8b2-a64c5609b9b2",
   "metadata": {},
   "outputs": [
    {
     "data": {
      "text/plain": [
       "['sl_no', 'ssc_p', 'hsc_p', 'degree_p', 'etest_p', 'mba_p', 'salary']"
      ]
     },
     "execution_count": 21,
     "metadata": {},
     "output_type": "execute_result"
    }
   ],
   "source": [
    "quan"
   ]
  },
  {
   "cell_type": "code",
   "execution_count": null,
   "id": "1a852221-079a-4e2c-b59d-8be13e8dd3c2",
   "metadata": {},
   "outputs": [],
   "source": []
  }
 ],
 "metadata": {
  "kernelspec": {
   "display_name": "Python [conda env:base] *",
   "language": "python",
   "name": "conda-base-py"
  },
  "language_info": {
   "codemirror_mode": {
    "name": "ipython",
    "version": 3
   },
   "file_extension": ".py",
   "mimetype": "text/x-python",
   "name": "python",
   "nbconvert_exporter": "python",
   "pygments_lexer": "ipython3",
   "version": "3.12.7"
  }
 },
 "nbformat": 4,
 "nbformat_minor": 5
}
